{
 "cells": [
  {
   "cell_type": "code",
   "execution_count": null,
   "id": "4e31984a",
   "metadata": {},
   "outputs": [],
   "source": [
    "class MultiHeadLatentAttention(nn.Module):\n",
    "    def __init__(self, d_model, num_heads, num_latents=8):\n",
    "        super().__init__()\n",
    "        self.num_heads = num_heads\n",
    "        self.d_k = d_model // num_heads\n",
    "        self.num_latents = num_latents\n",
    "\n",
    "        # Learnable latent queries\n",
    "        self.latents = nn.Parameter(torch.randn(1, num_latents, d_model))\n",
    "\n",
    "        # Projection layers\n",
    "        self.q_proj = nn.Linear(d_model, d_model)\n",
    "        self.kv_proj = nn.Linear(d_model, d_model * 2)\n",
    "        self.out_proj = nn.Linear(d_model, d_model)\n",
    "\n",
    "    def forward(self, x):\n",
    "        B, T, C = x.shape\n",
    "\n",
    "        # Project keys and values from input\n",
    "        kv = self.kv_proj(x)  # (B, T, 2*C)\n",
    "        k, v = kv.chunk(2, dim=-1)\n",
    "\n",
    "        # Expand latents for each batch\n",
    "        latents = self.latents.expand(B, -1, -1)  # (B, L, C)\n",
    "        q = self.q_proj(latents)\n",
    "\n",
    "        # Reshape for multi-head attention\n",
    "        q = q.view(B, self.num_latents, self.num_heads, self.d_k).transpose(1, 2)  # (B, H, L, d_k)\n",
    "        k = k.view(B, T, self.num_heads, self.d_k).transpose(1, 2)                # (B, H, T, d_k)\n",
    "        v = v.view(B, T, self.num_heads, self.d_k).transpose(1, 2)                # (B, H, T, d_k)\n",
    "\n",
    "        attn_scores = (q @ k.transpose(-2, -1)) / math.sqrt(self.d_k)             # (B, H, L, T)\n",
    "        attn_weights = F.softmax(attn_scores, dim=-1)\n",
    "        attn_output = attn_weights @ v                                            # (B, H, L, d_k)\n",
    "\n",
    "        out = attn_output.transpose(1, 2).contiguous().view(B, self.num_latents, C)\n",
    "        return self.out_proj(out)  # (B, L, C)\n"
   ]
  },
  {
   "cell_type": "code",
   "execution_count": null,
   "id": "4319a331",
   "metadata": {},
   "outputs": [],
   "source": [
    "class TransformerBlockWithLatents(nn.Module):\n",
    "    def __init__(self, d_model, num_heads, d_ff, dropout=0.1, num_latents=8):\n",
    "        super().__init__()\n",
    "        self.latent_attn = MultiHeadLatentAttention(d_model, num_heads, num_latents)\n",
    "        self.ff = FeedForward(d_model, d_ff, dropout)\n",
    "        self.ln1 = nn.LayerNorm(d_model)\n",
    "        self.ln2 = nn.LayerNorm(d_model)\n",
    "\n",
    "    def forward(self, x):\n",
    "        latents = self.latent_attn(self.ln1(x))  # (B, L, C)\n",
    "        # Optionally return just latents, or combine:\n",
    "        combined = x.mean(dim=1, keepdim=True).repeat(1, latents.size(1), 1) + latents\n",
    "        return combined + self.ff(self.ln2(combined))\n"
   ]
  },
  {
   "cell_type": "code",
   "execution_count": null,
   "id": "bc4cd702",
   "metadata": {},
   "outputs": [],
   "source": [
    "# Fusion of latent + causal self-attention\n",
    "class HybridAttentionBlock(nn.Module):\n",
    "    def __init__(self, d_model, num_heads, d_ff, num_latents=8):\n",
    "        super().__init__()\n",
    "        self.token_attn = CausalSelfAttention(d_model, num_heads)\n",
    "        self.latent_attn = MultiHeadLatentAttention(d_model, num_heads, num_latents)\n",
    "        self.ff = FeedForward(d_model, d_ff)\n",
    "        self.ln = nn.LayerNorm(d_model)\n",
    "\n",
    "    def forward(self, x):\n",
    "        tokens = self.token_attn(self.ln(x))\n",
    "        latents = self.latent_attn(x)\n",
    "        merged = tokens + latents.mean(dim=1, keepdim=True)  # Add a global latent token\n",
    "        return merged + self.ff(self.ln(merged))\n"
   ]
  }
 ],
 "metadata": {
  "language_info": {
   "name": "python"
  }
 },
 "nbformat": 4,
 "nbformat_minor": 5
}
